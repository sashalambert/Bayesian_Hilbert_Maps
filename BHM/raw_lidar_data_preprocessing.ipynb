{
 "cells": [
  {
   "cell_type": "code",
   "execution_count": 1,
   "metadata": {
    "colab": {},
    "colab_type": "code",
    "id": "MEIMttLBjtIR"
   },
   "outputs": [],
   "source": [
    "import numpy as np\n",
    "import matplotlib.pyplot as plt"
   ]
  },
  {
   "cell_type": "code",
   "execution_count": 2,
   "metadata": {
    "colab": {},
    "colab_type": "code",
    "id": "pAfRb2bljuoj"
   },
   "outputs": [],
   "source": [
    "def get_filled_txy(X, y, robot_pos=np.array([0,0]), max_range=80, unoccupied_points_per_meter=0.1, margin=0.05):\n",
    "    \"\"\"\n",
    "    # converting raw lidar hits to BHM compatible hit-free format. \n",
    "    :param X: Nx2 numpy array of lidar positions (positions of 2D lidar hits or max distance)\n",
    "    :param y: N numpy array (1 indicates reflected lidar beams (i.e. hits) and 0 indicates lidar beams that did not reflect back (i.e. no obstacle))\n",
    "    :param robot_pos: 2 numpy array position of the robot \n",
    "    :param max_range: maximum lidar distance\n",
    "    :param unoccupied_points_per_meter: required density of free points\n",
    "    :param margin: UniformDistribution[margin, 1-margin] to sample free points. It should be a very small value. \n",
    "    :return Nx3 numpy array. The first two columns are positions of hits and sampled free (i.e. X). The last column is labels=y={0,1}={free,hits}\n",
    "    \"\"\"\n",
    "\n",
    "    distances = np.sqrt(np.sum( (X - robot_pos)**2, axis=1))\n",
    "    for n in range(len(distances)):\n",
    "        dist = distances[n]\n",
    "        laser_endpoint = X[n, :]\n",
    "\n",
    "        # parametric filling\n",
    "        para = np.sort((np.random.random(np.int16(dist * unoccupied_points_per_meter)) * (1 - 2 * margin) + margin)[:,np.newaxis]) \n",
    "        points_scan_i = robot_pos + para * (laser_endpoint - robot_pos)\n",
    "        if n == 0:  # first data point\n",
    "            # points = np.vstack((points_scan_i, laser_endpoint))\n",
    "            if y[n] == 0: # laser beam didn't return\n",
    "                points = points_scan_i\n",
    "                labels = np.zeros((points_scan_i.shape[0], 1))\n",
    "            else:\n",
    "                points = np.vstack((points_scan_i, laser_endpoint))\n",
    "                labels = np.vstack((np.zeros((points_scan_i.shape[0], 1)), y[n] * np.array([1])[:, np.newaxis]))\n",
    "        else:\n",
    "            # points = np.vstack((points, np.vstack((points_scan_i, laser_endpoint))))\n",
    "            if y[n] == 0: # laser beam didn't return\n",
    "                points = np.vstack((points, points_scan_i))\n",
    "                labels = np.vstack((labels, np.zeros((points_scan_i.shape[0], 1))))\n",
    "            else:\n",
    "                points = np.vstack((points, np.vstack((points_scan_i, laser_endpoint))))\n",
    "                mini_labels = np.vstack((np.zeros((points_scan_i.shape[0], 1)), y[n]*np.array([1])[:, np.newaxis]))\n",
    "                labels = np.vstack((labels,  mini_labels))\n",
    "    # return (N,3) x1, x2, occ\n",
    "    return np.hstack((points, labels))"
   ]
  },
  {
   "cell_type": "code",
   "execution_count": 3,
   "metadata": {
    "colab": {},
    "colab_type": "code",
    "id": "UwtJLCx6lIot"
   },
   "outputs": [],
   "source": [
    "# let us consider 3 datapoints (in practice it can be 360 or more depending on lidar spacs)\n",
    "# say we have two lidar hits (40 m distance in 0 degree and 38 m distance in 1 degree) and one non-returning in 2 degrees.\n",
    "# max lidar distance is, say, 80 m\n",
    "th = np.radians(np.array([0, 1, 2]))[:, np.newaxis]\n",
    "dist = np.array([40, 38, 80])[:,None]\n",
    "X = dist*np.hstack((np.cos(th), np.sin(th)))\n",
    "y = np.array([1, 1, 0]) # [hit, hit, free]\n",
    "robot_pos = np.array([0,0])\n",
    "data_for_BHM = get_filled_txy(X, y, robot_pos)"
   ]
  },
  {
   "cell_type": "code",
   "execution_count": 4,
   "metadata": {
    "colab": {
     "base_uri": "https://localhost:8080/",
     "height": 281
    },
    "colab_type": "code",
    "id": "FL5PQ8AVj9Tn",
    "outputId": "f1c489f8-d01e-4c2c-ec7c-452971d21dcc"
   },
   "outputs": [
    {
     "data": {
      "image/png": "[encoded data removed]",
      "text/plain": [
       "<Figure size 432x288 with 2 Axes>"
      ]
     },
     "metadata": {
      "needs_background": "light"
     },
     "output_type": "display_data"
    }
   ],
   "source": [
    "for i in range(len(th)):\n",
    "  plt.plot(np.hstack((robot_pos[0], X[i,0])), np.hstack((robot_pos[1], X[i,1])), c='r', alpha=0.4)\n",
    "\n",
    "plt.scatter(data_for_BHM[:,0], data_for_BHM[:,1], c=data_for_BHM[:,2], cmap='jet')\n",
    "plt.colorbar()\n",
    "plt.title('red=hits, blue=free in the 2D space');"
   ]
  },
  {
   "cell_type": "code",
   "execution_count": null,
   "metadata": {
    "colab": {},
    "colab_type": "code",
    "id": "4O-6C4GTkFUU"
   },
   "outputs": [],
   "source": []
  }
 ],
 "metadata": {
  "colab": {
   "name": "raw_lidar_data_preprocessing.ipynb",
   "provenance": []
  },
  "kernelspec": {
   "display_name": "Python 3",
   "language": "python",
   "name": "python3"
  },
  "language_info": {
   "codemirror_mode": {
    "name": "ipython",
    "version": 3
   },
   "file_extension": ".py",
   "mimetype": "text/x-python",
   "name": "python",
   "nbconvert_exporter": "python",
   "pygments_lexer": "ipython3",
   "version": "3.8.10"
  }
 },
 "nbformat": 4,
 "nbformat_minor": 1
}
